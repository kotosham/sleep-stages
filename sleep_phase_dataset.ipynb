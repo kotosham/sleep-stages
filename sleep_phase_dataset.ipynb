{
  "nbformat": 4,
  "nbformat_minor": 0,
  "metadata": {
    "colab": {
      "provenance": [],
      "authorship_tag": "ABX9TyNsd5PDgdI9rHAcQ/CjBd7O",
      "include_colab_link": true
    },
    "kernelspec": {
      "name": "python3",
      "display_name": "Python 3"
    },
    "language_info": {
      "name": "python"
    }
  },
  "cells": [
    {
      "cell_type": "markdown",
      "metadata": {
        "id": "view-in-github",
        "colab_type": "text"
      },
      "source": [
        "<a href=\"https://colab.research.google.com/github/kotosham/sleep-stages/blob/main/sleep_phase_dataset.ipynb\" target=\"_parent\"><img src=\"https://colab.research.google.com/assets/colab-badge.svg\" alt=\"Open In Colab\"/></a>"
      ]
    },
    {
      "cell_type": "code",
      "source": [
        "import pandas as pd\n",
        "import torch\n",
        "from torch.utils.data import Dataset, DataLoader\n",
        "import random\n",
        "\n",
        "class SleepPhaseDataset(Dataset):\n",
        "    def __init__(self, file_paths, k):\n",
        "        \"\"\"\n",
        "        Инициализация датасета.\n",
        "\n",
        "        :param file_paths: Список путей к CSV файлам.\n",
        "        :param k: Длина фрагмента.\n",
        "        \"\"\"\n",
        "        self.data = []\n",
        "        self.labels = []\n",
        "        self.k = k\n",
        "\n",
        "        # Загрузка данных из файлов\n",
        "        for label, file_path in enumerate(file_paths):\n",
        "            # Чтение и объединение всех частей файла\n",
        "            df = pd.concat([pd.read_csv(part) for part in file_path], ignore_index=True)\n",
        "            df = df.dropna()  # Удаляем строки с NaN\n",
        "            self.data.append(df.iloc[:, :2].values)  # Первые две колонки\n",
        "            self.labels.append(df.iloc[:, -1].values)  # Последняя колонка (метки)\n",
        "\n",
        "    def __len__(self):\n",
        "        return sum(len(data) for data in self.data)\n",
        "\n",
        "    def __getitem__(self, idx):\n",
        "        cumulative_length = 0\n",
        "        for i, data in enumerate(self.data):\n",
        "            cumulative_length += len(data)\n",
        "            if idx < cumulative_length:\n",
        "                data_idx = idx - (cumulative_length - len(data))\n",
        "                start_idx = random.randint(0, max(0, len(data) - self.k))  # Случайный стартовый индекс\n",
        "                end_idx = start_idx + self.k\n",
        "\n",
        "                fragment = data[start_idx:end_idx]\n",
        "                label = self.labels[i][data_idx]\n",
        "                return torch.tensor(fragment, dtype=torch.float32), torch.tensor(label)\n",
        "\n",
        "file_paths = [\n",
        "    ['https://raw.githubusercontent.com/kotosham/sleep-stages/refs/heads/main/sleep_phase_0-1.csv',\n",
        "     'https://raw.githubusercontent.com/kotosham/sleep-stages/refs/heads/main/sleep_phase_0-2.csv'],\n",
        "    ['https://raw.githubusercontent.com/kotosham/sleep-stages/refs/heads/main/sleep_phase_1.csv'],\n",
        "    ['https://raw.githubusercontent.com/kotosham/sleep-stages/refs/heads/main/sleep_phase_2.csv'],\n",
        "    ['https://raw.githubusercontent.com/kotosham/sleep-stages/refs/heads/main/sleep_phase_3.csv']\n",
        "]\n",
        "\n",
        "dataset = SleepPhaseDataset(file_paths=file_paths, k=50)"
      ],
      "metadata": {
        "id": "J_mMF6AzZQsH"
      },
      "execution_count": 19,
      "outputs": []
    },
    {
      "cell_type": "code",
      "source": [
        "from sklearn.model_selection import train_test_split\n",
        "\n",
        "# Разделение на обучающий и тестовый наборы\n",
        "train_files, test_files = train_test_split(file_paths, test_size=0.2, random_state=42)\n",
        "\n",
        "# Дальнейшее разделение обучающего набора на валидационный и тренировочный\n",
        "train_files, val_files = train_test_split(train_files, test_size=0.2, random_state=42)\n",
        "\n",
        "# Создание DataLoader для каждого набора\n",
        "train_dataset = SleepPhaseDataset(train_files, k=50)\n",
        "val_dataset = SleepPhaseDataset(val_files, k=50)\n",
        "test_dataset = SleepPhaseDataset(test_files, k=50)\n",
        "\n",
        "train_loader = DataLoader(train_dataset, batch_size=32, shuffle=True)\n",
        "val_loader = DataLoader(val_dataset, batch_size=32)\n",
        "test_loader = DataLoader(test_dataset, batch_size=32)"
      ],
      "metadata": {
        "id": "66kyAkPTqoCI"
      },
      "execution_count": 20,
      "outputs": []
    },
    {
      "cell_type": "code",
      "source": [
        "train_labels = []\n",
        "for file_path in train_files:\n",
        "    for part in file_path:\n",
        "        df = pd.concat([pd.read_csv(part) for part in file_path], ignore_index=True)\n",
        "        train_labels.extend(df['Sleep stages'].dropna().unique())\n",
        "print(\"Unique labels in training set:\", set(train_labels))"
      ],
      "metadata": {
        "colab": {
          "base_uri": "https://localhost:8080/"
        },
        "id": "KnDaW8X1n7Nq",
        "outputId": "fffdb55e-6c23-4572-dd20-0c167cfc0455"
      },
      "execution_count": 21,
      "outputs": [
        {
          "output_type": "stream",
          "name": "stdout",
          "text": [
            "Unique labels in training set: {0, 2}\n"
          ]
        }
      ]
    },
    {
      "cell_type": "code",
      "source": [
        "val_labels = []\n",
        "for file_path in val_files:\n",
        "    for part in file_path:\n",
        "        df = pd.concat([pd.read_csv(part) for part in file_path], ignore_index=True)\n",
        "        val_labels.extend(df['Sleep stages'].dropna().unique())\n",
        "\n",
        "print(\"Unique labels in validation set:\", set(val_labels))"
      ],
      "metadata": {
        "colab": {
          "base_uri": "https://localhost:8080/"
        },
        "id": "7DxSv59hokEn",
        "outputId": "e53c14fa-2834-4f53-89b8-d42feddecc83"
      },
      "execution_count": 22,
      "outputs": [
        {
          "output_type": "stream",
          "name": "stdout",
          "text": [
            "Unique labels in validation set: {3}\n"
          ]
        }
      ]
    },
    {
      "cell_type": "code",
      "source": [
        "test_labels = []\n",
        "for file_path in test_files:\n",
        "    for part in file_path:\n",
        "        df = pd.concat([pd.read_csv(part) for part in file_path], ignore_index=True)\n",
        "        test_labels.extend(df['Sleep stages'].dropna().unique())\n",
        "\n",
        "print(\"Unique labels in test set:\", set(test_labels))"
      ],
      "metadata": {
        "colab": {
          "base_uri": "https://localhost:8080/"
        },
        "id": "aQJB7FrloL_l",
        "outputId": "66b34c97-466c-4796-fae7-cdb5be4c30ea"
      },
      "execution_count": 23,
      "outputs": [
        {
          "output_type": "stream",
          "name": "stdout",
          "text": [
            "Unique labels in test set: {1}\n"
          ]
        }
      ]
    },
    {
      "cell_type": "code",
      "source": [
        "import torch.nn as nn\n",
        "import torch.optim as optim\n",
        "\n",
        "# Параметры\n",
        "input_size = 2  # Количество признаков\n",
        "num_classes = 4  # Количество классов (фаз сна)\n",
        "num_epochs = 10   # Количество эпох\n",
        "learning_rate = 0.0001\n",
        "\n",
        "# Определение простой полносвязной нейронной сети\n",
        "class SimpleNN(nn.Module):\n",
        "    def __init__(self, input_size, num_classes):\n",
        "        super(SimpleNN, self).__init__()\n",
        "        self.fc1 = nn.Linear(input_size * 50, 256)\n",
        "        self.fc2 = nn.Linear(256, 128)\n",
        "        self.fc3 = nn.Linear(128, num_classes)\n",
        "\n",
        "    def forward(self, x):\n",
        "        x = torch.relu(self.fc1(x))\n",
        "        x = torch.relu(self.fc2(x))\n",
        "        x = self.fc3(x)\n",
        "        return x\n",
        "\n",
        "# Инициализация модели, потерь и оптимизатора\n",
        "model = SimpleNN(input_size=input_size, num_classes=num_classes)\n",
        "criterion = nn.CrossEntropyLoss()\n",
        "optimizer = optim.Adam(model.parameters(), lr=learning_rate)\n",
        "\n",
        "# Обучение модели\n",
        "for epoch in range(num_epochs):\n",
        "    model.train()\n",
        "    for batch_data, batch_labels in train_loader:\n",
        "        optimizer.zero_grad()\n",
        "\n",
        "        outputs = model(batch_data.view(batch_data.size(0), -1))\n",
        "        loss = criterion(outputs, batch_labels)\n",
        "        loss.backward()\n",
        "        optimizer.step()\n",
        "\n",
        "    print(f'Epoch [{epoch + 1}/{num_epochs}], Loss: {loss.item():.4f}')\n",
        "\n",
        "    # Оценка модели на валидационном наборе после каждой эпохи\n",
        "    model.eval()\n",
        "    with torch.no_grad():\n",
        "        correct = 0\n",
        "        total = 0\n",
        "        for val_data, val_labels in val_loader:\n",
        "            outputs = model(val_data.view(val_data.size(0), -1))\n",
        "            _, predicted = torch.max(outputs.data, 1)\n",
        "            total += val_labels.size(0)\n",
        "            correct += (predicted == val_labels).sum().item()\n",
        "\n",
        "        print(f'Validation Accuracy: {100 * correct / total:.2f}%')\n",
        "\n",
        "# Оценка модели на тестовом наборе после завершения обучения\n",
        "model.eval()\n",
        "with torch.no_grad():\n",
        "    correct = 0\n",
        "    total = 0\n",
        "    for test_data, test_labels in test_loader:\n",
        "        outputs = model(test_data.view(test_data.size(0), -1))\n",
        "        _, predicted = torch.max(outputs.data, 1)\n",
        "        total += test_labels.size(0)\n",
        "        correct += (predicted == test_labels).sum().item()\n",
        "\n",
        "    print(f'Test Accuracy: {100 * correct / total:.2f}%')"
      ],
      "metadata": {
        "colab": {
          "base_uri": "https://localhost:8080/",
          "height": 356
        },
        "id": "AKFQIJJ2dXe8",
        "outputId": "3e00814b-7937-4d33-fe85-7ce8c1988c35"
      },
      "execution_count": 24,
      "outputs": [
        {
          "output_type": "error",
          "ename": "KeyboardInterrupt",
          "evalue": "",
          "traceback": [
            "\u001b[0;31m---------------------------------------------------------------------------\u001b[0m",
            "\u001b[0;31mKeyboardInterrupt\u001b[0m                         Traceback (most recent call last)",
            "\u001b[0;32m<ipython-input-24-68b047d7ea7f>\u001b[0m in \u001b[0;36m<cell line: 30>\u001b[0;34m()\u001b[0m\n\u001b[1;32m     30\u001b[0m \u001b[0;32mfor\u001b[0m \u001b[0mepoch\u001b[0m \u001b[0;32min\u001b[0m \u001b[0mrange\u001b[0m\u001b[0;34m(\u001b[0m\u001b[0mnum_epochs\u001b[0m\u001b[0;34m)\u001b[0m\u001b[0;34m:\u001b[0m\u001b[0;34m\u001b[0m\u001b[0;34m\u001b[0m\u001b[0m\n\u001b[1;32m     31\u001b[0m     \u001b[0mmodel\u001b[0m\u001b[0;34m.\u001b[0m\u001b[0mtrain\u001b[0m\u001b[0;34m(\u001b[0m\u001b[0;34m)\u001b[0m\u001b[0;34m\u001b[0m\u001b[0;34m\u001b[0m\u001b[0m\n\u001b[0;32m---> 32\u001b[0;31m     \u001b[0;32mfor\u001b[0m \u001b[0mbatch_data\u001b[0m\u001b[0;34m,\u001b[0m \u001b[0mbatch_labels\u001b[0m \u001b[0;32min\u001b[0m \u001b[0mtrain_loader\u001b[0m\u001b[0;34m:\u001b[0m\u001b[0;34m\u001b[0m\u001b[0;34m\u001b[0m\u001b[0m\n\u001b[0m\u001b[1;32m     33\u001b[0m         \u001b[0moptimizer\u001b[0m\u001b[0;34m.\u001b[0m\u001b[0mzero_grad\u001b[0m\u001b[0;34m(\u001b[0m\u001b[0;34m)\u001b[0m\u001b[0;34m\u001b[0m\u001b[0;34m\u001b[0m\u001b[0m\n\u001b[1;32m     34\u001b[0m \u001b[0;34m\u001b[0m\u001b[0m\n",
            "\u001b[0;32m/usr/local/lib/python3.10/dist-packages/torch/utils/data/dataloader.py\u001b[0m in \u001b[0;36m__next__\u001b[0;34m(self)\u001b[0m\n\u001b[1;32m    695\u001b[0m \u001b[0;34m\u001b[0m\u001b[0m\n\u001b[1;32m    696\u001b[0m     \u001b[0;32mdef\u001b[0m \u001b[0m__next__\u001b[0m\u001b[0;34m(\u001b[0m\u001b[0mself\u001b[0m\u001b[0;34m)\u001b[0m \u001b[0;34m->\u001b[0m \u001b[0mAny\u001b[0m\u001b[0;34m:\u001b[0m\u001b[0;34m\u001b[0m\u001b[0;34m\u001b[0m\u001b[0m\n\u001b[0;32m--> 697\u001b[0;31m         \u001b[0;32mwith\u001b[0m \u001b[0mtorch\u001b[0m\u001b[0;34m.\u001b[0m\u001b[0mautograd\u001b[0m\u001b[0;34m.\u001b[0m\u001b[0mprofiler\u001b[0m\u001b[0;34m.\u001b[0m\u001b[0mrecord_function\u001b[0m\u001b[0;34m(\u001b[0m\u001b[0mself\u001b[0m\u001b[0;34m.\u001b[0m\u001b[0m_profile_name\u001b[0m\u001b[0;34m)\u001b[0m\u001b[0;34m:\u001b[0m\u001b[0;34m\u001b[0m\u001b[0;34m\u001b[0m\u001b[0m\n\u001b[0m\u001b[1;32m    698\u001b[0m             \u001b[0;32mif\u001b[0m \u001b[0mself\u001b[0m\u001b[0;34m.\u001b[0m\u001b[0m_sampler_iter\u001b[0m \u001b[0;32mis\u001b[0m \u001b[0;32mNone\u001b[0m\u001b[0;34m:\u001b[0m\u001b[0;34m\u001b[0m\u001b[0;34m\u001b[0m\u001b[0m\n\u001b[1;32m    699\u001b[0m                 \u001b[0;31m# TODO(https://github.com/pytorch/pytorch/issues/76750)\u001b[0m\u001b[0;34m\u001b[0m\u001b[0;34m\u001b[0m\u001b[0m\n",
            "\u001b[0;32m/usr/local/lib/python3.10/dist-packages/torch/autograd/profiler.py\u001b[0m in \u001b[0;36m__exit__\u001b[0;34m(self, exc_type, exc_value, traceback)\u001b[0m\n\u001b[1;32m    746\u001b[0m         \u001b[0;31m# TODO: Too slow with __torch_function__ handling enabled\u001b[0m\u001b[0;34m\u001b[0m\u001b[0;34m\u001b[0m\u001b[0m\n\u001b[1;32m    747\u001b[0m         \u001b[0;31m# See https://github.com/pytorch/pytorch/issues/76410\u001b[0m\u001b[0;34m\u001b[0m\u001b[0;34m\u001b[0m\u001b[0m\n\u001b[0;32m--> 748\u001b[0;31m         \u001b[0;32mif\u001b[0m \u001b[0;32mnot\u001b[0m \u001b[0mtorch\u001b[0m\u001b[0;34m.\u001b[0m\u001b[0mjit\u001b[0m\u001b[0;34m.\u001b[0m\u001b[0mis_scripting\u001b[0m\u001b[0;34m(\u001b[0m\u001b[0;34m)\u001b[0m\u001b[0;34m:\u001b[0m\u001b[0;34m\u001b[0m\u001b[0;34m\u001b[0m\u001b[0m\n\u001b[0m\u001b[1;32m    749\u001b[0m             \u001b[0;32mwith\u001b[0m \u001b[0mtorch\u001b[0m\u001b[0;34m.\u001b[0m\u001b[0m_C\u001b[0m\u001b[0;34m.\u001b[0m\u001b[0mDisableTorchFunctionSubclass\u001b[0m\u001b[0;34m(\u001b[0m\u001b[0;34m)\u001b[0m\u001b[0;34m:\u001b[0m\u001b[0;34m\u001b[0m\u001b[0;34m\u001b[0m\u001b[0m\n\u001b[1;32m    750\u001b[0m                 \u001b[0mtorch\u001b[0m\u001b[0;34m.\u001b[0m\u001b[0mops\u001b[0m\u001b[0;34m.\u001b[0m\u001b[0mprofiler\u001b[0m\u001b[0;34m.\u001b[0m\u001b[0m_record_function_exit\u001b[0m\u001b[0;34m.\u001b[0m\u001b[0m_RecordFunction\u001b[0m\u001b[0;34m(\u001b[0m\u001b[0mrecord\u001b[0m\u001b[0;34m)\u001b[0m\u001b[0;34m\u001b[0m\u001b[0;34m\u001b[0m\u001b[0m\n",
            "\u001b[0;32m/usr/local/lib/python3.10/dist-packages/torch/_jit_internal.py\u001b[0m in \u001b[0;36mis_scripting\u001b[0;34m()\u001b[0m\n\u001b[1;32m    101\u001b[0m \u001b[0;34m\u001b[0m\u001b[0m\n\u001b[1;32m    102\u001b[0m \u001b[0;34m\u001b[0m\u001b[0m\n\u001b[0;32m--> 103\u001b[0;31m \u001b[0;32mdef\u001b[0m \u001b[0mis_scripting\u001b[0m\u001b[0;34m(\u001b[0m\u001b[0;34m)\u001b[0m \u001b[0;34m->\u001b[0m \u001b[0mbool\u001b[0m\u001b[0;34m:\u001b[0m\u001b[0;34m\u001b[0m\u001b[0;34m\u001b[0m\u001b[0m\n\u001b[0m\u001b[1;32m    104\u001b[0m     r\"\"\"\n\u001b[1;32m    105\u001b[0m     \u001b[0mFunction\u001b[0m \u001b[0mthat\u001b[0m \u001b[0mreturns\u001b[0m \u001b[0;32mTrue\u001b[0m \u001b[0mwhen\u001b[0m \u001b[0;32min\u001b[0m \u001b[0mcompilation\u001b[0m \u001b[0;32mand\u001b[0m \u001b[0;32mFalse\u001b[0m \u001b[0motherwise\u001b[0m\u001b[0;34m.\u001b[0m \u001b[0mThis\u001b[0m\u001b[0;34m\u001b[0m\u001b[0;34m\u001b[0m\u001b[0m\n",
            "\u001b[0;31mKeyboardInterrupt\u001b[0m: "
          ]
        }
      ]
    }
  ]
}